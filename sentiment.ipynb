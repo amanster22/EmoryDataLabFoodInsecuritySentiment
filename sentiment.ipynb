{
 "cells": [
  {
   "cell_type": "code",
   "execution_count": null,
   "metadata": {},
   "outputs": [],
   "source": [
    "from transformers import pipeline\n",
    "\n",
    "sentiment_pipeline = pipeline(\"sentiment-analysis\")\n",
    "\n",
    "def get_sentiment(tweet):\n",
    "    result = sentiment_pipeline(tweet)[0]\n",
    "    return result[\"label\"]\n",
    "print('test')\n",
    "print(get_sentiment(\"The Georgia Department of Agriculture has lifted a statewide ban on poultry-related activities after it was put in place after a confirmed bird flu detection in northeast Georgia.\"))  # Output: POSITIVE\n"
   ]
  }
 ],
 "metadata": {
  "language_info": {
   "name": "python"
  }
 },
 "nbformat": 4,
 "nbformat_minor": 2
}
