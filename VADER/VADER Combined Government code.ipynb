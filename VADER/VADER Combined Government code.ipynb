{
 "cells": [
  {
   "cell_type": "markdown",
   "metadata": {},
   "source": [
    "GOVERNMENT COMBINED"
   ]
  },
  {
   "cell_type": "code",
   "execution_count": 3,
   "metadata": {},
   "outputs": [],
   "source": [
    "import pandas as pd\n",
    "from vaderSentiment.vaderSentiment import SentimentIntensityAnalyzer"
   ]
  },
  {
   "cell_type": "code",
   "execution_count": 4,
   "metadata": {},
   "outputs": [],
   "source": [
    "df=pd.read_csv(\"datasets/combined/government_combined.csv\")"
   ]
  },
  {
   "cell_type": "code",
   "execution_count": 5,
   "metadata": {},
   "outputs": [
    {
     "data": {
      "text/plain": [
       "0    In response to rising egg prices and ongoing b...\n",
       "1    The Georgia Department of Agriculture was esta...\n",
       "2    Georgia Department of Agriculture says residen...\n",
       "3    Georgia Department of Agriculture says residen...\n",
       "4    Georgia Department of Agriculture says residen...\n",
       "Name: post_body_text, dtype: object"
      ]
     },
     "execution_count": 5,
     "metadata": {},
     "output_type": "execute_result"
    }
   ],
   "source": [
    "# print(df.head())\n",
    "# print(df.columns)\n",
    "postInfo = df['post_body_text']\n",
    "postInfo.head()"
   ]
  },
  {
   "cell_type": "code",
   "execution_count": 9,
   "metadata": {},
   "outputs": [
    {
     "name": "stdout",
     "output_type": "stream",
     "text": [
      "      PostId                                            PostUrl  \\\n",
      "0  458661712        https://www.youtube.com/watch?v=mecIIha_BIk   \n",
      "1  458681633           https://www.instagram.com/p/DHLUnXlJa3q/   \n",
      "2  456736042  https://twitter.com/AUG_Chronicle/status/18995...   \n",
      "3  456562393  https://www.facebook.com/savannahnow/posts/pfb...   \n",
      "4  456544787  https://twitter.com/SavannahNow/status/1899392...   \n",
      "\n",
      "   PostEngagement         Platform  ChannelID  \\\n",
      "0             NaN          YouTube    2853188   \n",
      "1             NaN  InstagramDirect   27205848   \n",
      "2             NaN          Twitter    6887643   \n",
      "3             NaN         Facebook   17964257   \n",
      "4             NaN          Twitter    8100729   \n",
      "\n",
      "                               ChannelName     ChannelUid     ChannelUrl  \\\n",
      "0                             Farm Monitor  blank_for_now  blank_for_now   \n",
      "1                          Bethany Ballard  blank_for_now  blank_for_now   \n",
      "2                        Augusta Chronicle  blank_for_now  blank_for_now   \n",
      "3  Savannah Morning News & SavannahNow.com  blank_for_now  blank_for_now   \n",
      "4                             Savannah Now  blank_for_now  blank_for_now   \n",
      "\n",
      "                                   ChannelEngagement  \\\n",
      "0  {\"follower_count\":29200,\"following_count\":0,\"l...   \n",
      "1  {\"follower_count\":346,\"following_count\":70,\"li...   \n",
      "2  {\"follower_count\":62798,\"following_count\":8143...   \n",
      "3  {\"follower_count\":88096,\"following_count\":0,\"l...   \n",
      "4  {\"follower_count\":58587,\"following_count\":858,...   \n",
      "\n",
      "                                      post_body_text  ...          post_data  \\\n",
      "0  In response to rising egg prices and ongoing b...  ...  post data removed   \n",
      "1  The Georgia Department of Agriculture was esta...  ...  post data removed   \n",
      "2  Georgia Department of Agriculture says residen...  ...  post data removed   \n",
      "3  Georgia Department of Agriculture says residen...  ...  post data removed   \n",
      "4  Georgia Department of Agriculture says residen...  ...  post data removed   \n",
      "\n",
      "                                     post_media_urls LikesCount SharesCount  \\\n",
      "0  https://www.junkipedia.org/rails/active_storag...        6.0         0.0   \n",
      "1                                                NaN        1.0         0.0   \n",
      "2                                                NaN        0.0         0.0   \n",
      "3  https://www.junkipedia.org/rails/active_storag...        6.0         6.0   \n",
      "4                                                NaN        0.0         0.0   \n",
      "\n",
      "  CommentsCount ViewsCount  post_media_file  embedded_post_text  search_data  \\\n",
      "0           0.0      106.0              NaN                 NaN          NaN   \n",
      "1           0.0        0.0              NaN                 NaN          NaN   \n",
      "2           0.0      140.0              NaN                 NaN          NaN   \n",
      "3           0.0        0.0              NaN                 NaN          NaN   \n",
      "4           0.0      195.0              NaN                 NaN          NaN   \n",
      "\n",
      "   sentiment  \n",
      "0     0.9412  \n",
      "1     0.6808  \n",
      "2    -0.6908  \n",
      "3    -0.6908  \n",
      "4    -0.6908  \n",
      "\n",
      "[5 rows x 24 columns]\n",
      "Output file saved to: datasets/combined/government_combined_output.csv\n"
     ]
    }
   ],
   "source": [
    "import csv  # Import csv module for quoting options\n",
    "import pandas as pd\n",
    "from vaderSentiment.vaderSentiment import SentimentIntensityAnalyzer\n",
    "\n",
    "# Create an instance of SentimentIntensityAnalyzer\n",
    "analyzer = SentimentIntensityAnalyzer()\n",
    "\n",
    "# Function to get sentiment scores\n",
    "def get_sentiment_scores(text):\n",
    "    if isinstance(text, str):  # Ensure input is a string\n",
    "        scores = analyzer.polarity_scores(text)\n",
    "        return scores['compound']\n",
    "    else:\n",
    "        return None  # Return None for non-text values\n",
    "\n",
    "# Read the CSV file with proper quoting to handle commas inside strings\n",
    "input_csv = 'datasets/combined/government_combined.csv'  # Replace with your input CSV file path\n",
    "df = pd.read_csv(input_csv, quotechar='\"')  # Ensure proper reading of quoted text\n",
    "\n",
    "# Apply the sentiment analysis to each line in the 'post_body_text' column\n",
    "df['sentiment'] = df['post_body_text'].apply(get_sentiment_scores)\n",
    "\n",
    "# Verify the contents of the DataFrame\n",
    "print(df.head())\n",
    "\n",
    "# Write the results to a new CSV file with proper quoting for text fields\n",
    "output_csv = 'datasets/combined/government_combined_output.csv'  # Replace with your desired output CSV file path\n",
    "df.to_csv(output_csv, index=False, quoting=csv.QUOTE_ALL)  # Correct quoting usage\n",
    "\n",
    "# Confirm the file was written\n",
    "print(f\"Output file saved to: {output_csv}\")"
   ]
  },
  {
   "cell_type": "code",
   "execution_count": 10,
   "metadata": {},
   "outputs": [
    {
     "data": {
      "image/png": "[encoded data removed]",
      "text/plain": [
       "<Figure size 1000x600 with 1 Axes>"
      ]
     },
     "metadata": {},
     "output_type": "display_data"
    }
   ],
   "source": [
    "import pandas as pd\n",
    "import matplotlib.pyplot as plt\n",
    "import seaborn as sns\n",
    "\n",
    "df = pd.read_csv('datasets/combined/government_combined_output.csv')\n",
    "\n",
    "# Plotting the distribution of sentiment scores\n",
    "plt.figure(figsize=(10, 6))\n",
    "sns.histplot(df['sentiment'], bins=30, kde=True)\n",
    "plt.title('Distribution of Sentiment Scores')\n",
    "plt.xlabel('Sentiment Score')\n",
    "plt.ylabel('Frequency')\n",
    "plt.show()"
   ]
  },
  {
   "cell_type": "code",
   "execution_count": 13,
   "metadata": {},
   "outputs": [
    {
     "name": "stdout",
     "output_type": "stream",
     "text": [
      "Average Sentiment Score: 0.07048579088471849\n"
     ]
    }
   ],
   "source": [
    "#Average overall sentiment score\n",
    "average_sentiment = df['sentiment'].mean()\n",
    "print(f\"Average Sentiment Score: {average_sentiment}\")"
   ]
  },
  {
   "cell_type": "code",
   "execution_count": 11,
   "metadata": {},
   "outputs": [
    {
     "name": "stdout",
     "output_type": "stream",
     "text": [
      "           Platform  AverageSentimentScore\n",
      "0           Bluesky               0.000000\n",
      "1          Facebook               0.100905\n",
      "2    FacebookDirect               0.314668\n",
      "3             GETTR              -0.521100\n",
      "4               Gab              -0.070233\n",
      "5         Instagram               0.130890\n",
      "6   InstagramDirect               0.174743\n",
      "7          Telegram              -0.147600\n",
      "8           Threads               0.021750\n",
      "9            TikTok               0.406250\n",
      "10      TruthSocial              -0.585900\n",
      "11          Twitter              -0.019200\n",
      "12          YouTube               0.343824\n"
     ]
    }
   ],
   "source": [
    "import pandas as pd\n",
    "\n",
    "# Read data from CSV file\n",
    "df = pd.read_csv('datasets/combined/government_combined_output.csv')\n",
    "\n",
    "# Group by 'Platform' and calculate the average sentiment score for each platform\n",
    "average_sentiment = df.groupby('Platform')['sentiment'].mean().reset_index()\n",
    "\n",
    "# Rename columns for clarity\n",
    "average_sentiment.columns = ['Platform', 'AverageSentimentScore']\n",
    "\n",
    "print(average_sentiment)\n"
   ]
  }
 ],
 "metadata": {
  "kernelspec": {
   "display_name": "base",
   "language": "python",
   "name": "python3"
  },
  "language_info": {
   "codemirror_mode": {
    "name": "ipython",
    "version": 3
   },
   "file_extension": ".py",
   "mimetype": "text/x-python",
   "name": "python",
   "nbconvert_exporter": "python",
   "pygments_lexer": "ipython3",
   "version": "3.12.4"
  }
 },
 "nbformat": 4,
 "nbformat_minor": 2
}
