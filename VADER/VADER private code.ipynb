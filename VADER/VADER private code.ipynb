{
 "cells": [
  {
   "cell_type": "markdown",
   "metadata": {},
   "source": [
    "ATLANTA COMMUNITY FOOD BANK"
   ]
  },
  {
   "cell_type": "code",
   "execution_count": 1,
   "metadata": {},
   "outputs": [],
   "source": [
    "import pandas as pd\n",
    "from vaderSentiment.vaderSentiment import SentimentIntensityAnalyzer"
   ]
  },
  {
   "cell_type": "code",
   "execution_count": 2,
   "metadata": {},
   "outputs": [],
   "source": [
    "df=pd.read_csv(\"datasets/combined/nonprofit_combined.csv\")"
   ]
  },
  {
   "cell_type": "code",
   "execution_count": 3,
   "metadata": {},
   "outputs": [
    {
     "data": {
      "text/plain": [
       "0    • Medicaid\\n• Meals on Wheels [provides meals ...\n",
       "1    Savannah seniors can access Meals on Wheels fo...\n",
       "2    SAVANNAH, Ga. (WSAV) - Many senior citizens pr...\n",
       "3    SAVANNAH, Ga. (WSAV) - Many senior citizens pr...\n",
       "4    Meals on Wheels is a vital service bringing we...\n",
       "Name: post_body_text, dtype: object"
      ]
     },
     "execution_count": 3,
     "metadata": {},
     "output_type": "execute_result"
    }
   ],
   "source": [
    "# print(df.head())\n",
    "# print(df.columns)\n",
    "postInfo = df['post_body_text']\n",
    "postInfo.head()"
   ]
  },
  {
   "cell_type": "markdown",
   "metadata": {},
   "source": [
    "ONE POSITIVE EXAMPLE\n",
    "\"We are thrilled to introduce and welcome our newest members to the Georgia Hispanic Chamber of Commerce. Together, we’re building a vibrant and supportive community that empowers growth, collaboration, and success!\""
   ]
  },
  {
   "cell_type": "code",
   "execution_count": 4,
   "metadata": {},
   "outputs": [
    {
     "name": "stdout",
     "output_type": "stream",
     "text": [
      "The sentiment score for the quote is: 0.9523\n"
     ]
    }
   ],
   "source": [
    "analyzer = SentimentIntensityAnalyzer()\n",
    "\n",
    "def analyze_quote_sentiment(quote):\n",
    "    # Get the sentiment scores for the given quote\n",
    "    scores = analyzer.polarity_scores(quote)\n",
    "    \n",
    "    # Return the compound score\n",
    "    return scores['compound']\n",
    "\n",
    "# Example usage\n",
    "quote = \"We are thrilled to introduce and welcome our newest members to the Georgia Hispanic Chamber of Commerce. Together, we’re building a vibrant and supportive community that empowers growth, collaboration, and success!\"\n",
    "sentiment_score = analyze_quote_sentiment(quote)\n",
    "print(f\"The sentiment score for the quote is: {sentiment_score}\")"
   ]
  },
  {
   "cell_type": "code",
   "execution_count": 5,
   "metadata": {},
   "outputs": [
    {
     "name": "stdout",
     "output_type": "stream",
     "text": [
      "The sentiment score for the quote is: 0.0\n"
     ]
    }
   ],
   "source": [
    "analyzer = SentimentIntensityAnalyzer()\n",
    "\n",
    "def analyze_quote_sentiment(quote):\n",
    "    # Get the sentiment scores for the given quote\n",
    "    scores = analyzer.polarity_scores(quote)\n",
    "    \n",
    "    # Return the compound score\n",
    "    return scores['compound']\n",
    "\n",
    "# Example usage\n",
    "quote = \"government\"\n",
    "sentiment_score = analyze_quote_sentiment(quote)\n",
    "print(f\"The sentiment score for the quote is: {sentiment_score}\")"
   ]
  },
  {
   "cell_type": "markdown",
   "metadata": {},
   "source": [
    "GETTING SENTIMENT SCORE FOR THE ENTIRE FILE (LINE PER LINE) AND SAVING IT TO A NEW CSV"
   ]
  },
  {
   "cell_type": "code",
   "execution_count": 9,
   "metadata": {},
   "outputs": [
    {
     "name": "stdout",
     "output_type": "stream",
     "text": [
      "      PostId                                            PostUrl   \n",
      "0  425172109  https://bsky.app/profile/jenjams.bsky.social/p...  \\\n",
      "1  356895034  https://twitter.com/newsradiosav/status/185051...   \n",
      "2  385538438  https://www.facebook.com/newsradiosavannah/pos...   \n",
      "3  356638075  https://www.facebook.com/100039729025592/posts...   \n",
      "4  299189598        https://www.youtube.com/watch?v=dQxaZy7kX30   \n",
      "\n",
      "   PostEngagement        Platform  ChannelID                     ChannelName   \n",
      "0             NaN         Bluesky   30312579                           Jenny  \\\n",
      "1             NaN         Twitter    9825826              Newsradio Savannah   \n",
      "2             NaN        Facebook   18542587              Newsradio Savannah   \n",
      "3             NaN  FacebookDirect   27619355              Newsradio Savannah   \n",
      "4             NaN         YouTube   24397374  Cherokee County, GA Government   \n",
      "\n",
      "      ChannelUid     ChannelUrl   \n",
      "0  blank_for_now  blank_for_now  \\\n",
      "1  blank_for_now  blank_for_now   \n",
      "2  blank_for_now  blank_for_now   \n",
      "3  blank_for_now  blank_for_now   \n",
      "4  blank_for_now  blank_for_now   \n",
      "\n",
      "                                   ChannelEngagement   \n",
      "0  {\"follower_count\":17661,\"following_count\":1130...  \\\n",
      "1  {\"follower_count\":603,\"following_count\":155,\"l...   \n",
      "2  {\"follower_count\":1715,\"following_count\":null,...   \n",
      "3  {\"follower_count\":1800,\"following_count\":0,\"li...   \n",
      "4  {\"follower_count\":184,\"following_count\":0,\"lik...   \n",
      "\n",
      "                                      post_body_text  ...          post_data   \n",
      "0  • Medicaid\\n• Meals on Wheels [provides meals ...  ...  post data removed  \\\n",
      "1  Savannah seniors can access Meals on Wheels fo...  ...  post data removed   \n",
      "2  SAVANNAH, Ga. (WSAV) - Many senior citizens pr...  ...  post data removed   \n",
      "3  SAVANNAH, Ga. (WSAV) - Many senior citizens pr...  ...  post data removed   \n",
      "4  Meals on Wheels is a vital service bringing we...  ...  post data removed   \n",
      "\n",
      "                                     post_media_urls LikesCount SharesCount   \n",
      "0                                                NaN       11.0         3.0  \\\n",
      "1                                                NaN        0.0         0.0   \n",
      "2                                                NaN        0.0         0.0   \n",
      "3                                                NaN        0.0         0.0   \n",
      "4  https://www.junkipedia.org/rails/active_storag...        2.0         0.0   \n",
      "\n",
      "  CommentsCount ViewsCount  post_media_file  embedded_post_text  search_data   \n",
      "0           2.0        0.0              NaN                 NaN          NaN  \\\n",
      "1           0.0        6.0              NaN                 NaN          NaN   \n",
      "2           0.0        0.0              NaN                 NaN          NaN   \n",
      "3           0.0        0.0              NaN                 NaN          NaN   \n",
      "4           0.0       45.0              NaN                 NaN          NaN   \n",
      "\n",
      "   sentiment  \n",
      "0     0.4404  \n",
      "1     0.0000  \n",
      "2     0.8126  \n",
      "3     0.8126  \n",
      "4     0.5994  \n",
      "\n",
      "[5 rows x 24 columns]\n",
      "Output file saved to: datasets/combined/nonprofit_combined_output.csv\n"
     ]
    }
   ],
   "source": [
    "import csv  # Import csv module for quoting options\n",
    "import pandas as pd\n",
    "from vaderSentiment.vaderSentiment import SentimentIntensityAnalyzer\n",
    "\n",
    "# Create an instance of SentimentIntensityAnalyzer\n",
    "analyzer = SentimentIntensityAnalyzer()\n",
    "\n",
    "# Function to get sentiment scores\n",
    "def get_sentiment_scores(text):\n",
    "    if isinstance(text, str):  # Ensure input is a string\n",
    "        scores = analyzer.polarity_scores(text)\n",
    "        return scores['compound']\n",
    "    else:\n",
    "        return None  # Return None for non-text values\n",
    "\n",
    "# Read the CSV file with proper quoting to handle commas inside strings\n",
    "input_csv = 'datasets/combined/nonprofit_combined.csv'  # Replace with your input CSV file path\n",
    "df = pd.read_csv(input_csv, quotechar='\"')  # Ensure proper reading of quoted text\n",
    "\n",
    "# Apply the sentiment analysis to each line in the 'post_body_text' column\n",
    "df['sentiment'] = df['post_body_text'].apply(get_sentiment_scores)\n",
    "\n",
    "# Verify the contents of the DataFrame\n",
    "print(df.head())\n",
    "\n",
    "# Write the results to a new CSV file with proper quoting for text fields\n",
    "output_csv = 'datasets/combined/nonprofit_combined_output.csv'  # Replace with your desired output CSV file path\n",
    "df.to_csv(output_csv, index=False, quoting=csv.QUOTE_ALL)  # Correct quoting usage\n",
    "\n",
    "# Confirm the file was written\n",
    "print(f\"Output file saved to: {output_csv}\")\n"
   ]
  },
  {
   "cell_type": "markdown",
   "metadata": {},
   "source": [
    "GETTING A SUMMARIZED SENTIMENT SCORE FOR THE ENTIRE CSV, OTHER DESCRIPTIVE DATA?"
   ]
  },
  {
   "cell_type": "markdown",
   "metadata": {},
   "source": [
    "Some basic visualizations"
   ]
  },
  {
   "cell_type": "code",
   "execution_count": 11,
   "metadata": {},
   "outputs": [
    {
     "data": {
      "image/png": "[encoded data removed]",
      "text/plain": [
       "<Figure size 1000x600 with 1 Axes>"
      ]
     },
     "metadata": {},
     "output_type": "display_data"
    }
   ],
   "source": [
    "import pandas as pd\n",
    "import matplotlib.pyplot as plt\n",
    "import seaborn as sns\n",
    "\n",
    "df = pd.read_csv('datasets/combined/nonprofit_combined_output.csv')\n",
    "\n",
    "# Plotting the distribution of sentiment scores\n",
    "plt.figure(figsize=(10, 6))\n",
    "sns.histplot(df['sentiment'], bins=30, kde=True)\n",
    "plt.title('Distribution of Sentiment Scores')\n",
    "plt.xlabel('Sentiment Score')\n",
    "plt.ylabel('Frequency')\n",
    "plt.show()"
   ]
  },
  {
   "cell_type": "code",
   "execution_count": 12,
   "metadata": {},
   "outputs": [
    {
     "name": "stdout",
     "output_type": "stream",
     "text": [
      "          Platform  AverageSentimentScore\n",
      "0         Facebook               0.519306\n",
      "1   FacebookDirect               0.687200\n",
      "2        Instagram               0.725229\n",
      "3  InstagramDirect               0.619503\n",
      "4          Podcast               0.870000\n",
      "5           Rumble              -0.618800\n",
      "6         Telegram              -0.421500\n",
      "7           TikTok              -0.223900\n",
      "8          Twitter               0.260506\n",
      "9          YouTube               0.307643\n"
     ]
    }
   ],
   "source": [
    "import pandas as pd\n",
    "\n",
    "# Read data from CSV file\n",
    "df = pd.read_csv('C:/Users/zeipe/OneDrive/Desktop/QTM151/qtm151spring2025/output_with_sentiment.csv')\n",
    "\n",
    "# Group by 'Platform' and calculate the average sentiment score for each platform\n",
    "average_sentiment = df.groupby('Platform')['sentiment'].mean().reset_index()\n",
    "\n",
    "# Rename columns for clarity\n",
    "average_sentiment.columns = ['Platform', 'AverageSentimentScore']\n",
    "\n",
    "print(average_sentiment)\n"
   ]
  }
 ],
 "metadata": {
  "kernelspec": {
   "display_name": "base",
   "language": "python",
   "name": "python3"
  },
  "language_info": {
   "codemirror_mode": {
    "name": "ipython",
    "version": 3
   },
   "file_extension": ".py",
   "mimetype": "text/x-python",
   "name": "python",
   "nbconvert_exporter": "python",
   "pygments_lexer": "ipython3",
   "version": "3.11.2"
  }
 },
 "nbformat": 4,
 "nbformat_minor": 2
}
