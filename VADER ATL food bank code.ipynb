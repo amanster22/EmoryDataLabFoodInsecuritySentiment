{
 "cells": [
  {
   "cell_type": "markdown",
   "metadata": {},
   "source": [
    "ATLANTA COMMUNITY FOOD BANK"
   ]
  },
  {
   "cell_type": "code",
   "execution_count": 1,
   "metadata": {},
   "outputs": [],
   "source": [
    "import pandas as pd\n",
    "from vaderSentiment.vaderSentiment import SentimentIntensityAnalyzer"
   ]
  },
  {
   "cell_type": "code",
   "execution_count": 2,
   "metadata": {},
   "outputs": [],
   "source": [
    "df=pd.read_csv(\"C:/Users/zeipe/OneDrive/Desktop/AIDL/Atlanta_Community_Food_Bank.csv\")"
   ]
  },
  {
   "cell_type": "code",
   "execution_count": 3,
   "metadata": {},
   "outputs": [
    {
     "data": {
      "text/plain": [
       "0    RT @FCSSocialWork: Giving back to the communit...\n",
       "1    Giving back to the community one meal at a tim...\n",
       "2    The Minnie Bell and Annie Lois Foundation Inc ...\n",
       "3    The GCSO Community Affairs Unit has joined the...\n",
       "4    This Black History Month remember that human t...\n",
       "Name: post_body_text, dtype: object"
      ]
     },
     "execution_count": 3,
     "metadata": {},
     "output_type": "execute_result"
    }
   ],
   "source": [
    "# print(df.head())\n",
    "# print(df.columns)\n",
    "postInfo = df['post_body_text']\n",
    "postInfo.head()"
   ]
  },
  {
   "cell_type": "markdown",
   "metadata": {},
   "source": [
    "ONE POSITIVE EXAMPLE\n",
    "\"We are thrilled to introduce and welcome our newest members to the Georgia Hispanic Chamber of Commerce. Together, we’re building a vibrant and supportive community that empowers growth, collaboration, and success!\""
   ]
  },
  {
   "cell_type": "code",
   "execution_count": 4,
   "metadata": {},
   "outputs": [
    {
     "name": "stdout",
     "output_type": "stream",
     "text": [
      "The sentiment score for the quote is: 0.9523\n"
     ]
    }
   ],
   "source": [
    "analyzer = SentimentIntensityAnalyzer()\n",
    "\n",
    "def analyze_quote_sentiment(quote):\n",
    "    # Get the sentiment scores for the given quote\n",
    "    scores = analyzer.polarity_scores(quote)\n",
    "    \n",
    "    # Return the compound score\n",
    "    return scores['compound']\n",
    "\n",
    "# Example usage\n",
    "quote = \"We are thrilled to introduce and welcome our newest members to the Georgia Hispanic Chamber of Commerce. Together, we’re building a vibrant and supportive community that empowers growth, collaboration, and success!\"\n",
    "sentiment_score = analyze_quote_sentiment(quote)\n",
    "print(f\"The sentiment score for the quote is: {sentiment_score}\")"
   ]
  },
  {
   "cell_type": "code",
   "execution_count": 5,
   "metadata": {},
   "outputs": [
    {
     "name": "stdout",
     "output_type": "stream",
     "text": [
      "The sentiment score for the quote is: 0.0\n"
     ]
    }
   ],
   "source": [
    "analyzer = SentimentIntensityAnalyzer()\n",
    "\n",
    "def analyze_quote_sentiment(quote):\n",
    "    # Get the sentiment scores for the given quote\n",
    "    scores = analyzer.polarity_scores(quote)\n",
    "    \n",
    "    # Return the compound score\n",
    "    return scores['compound']\n",
    "\n",
    "# Example usage\n",
    "quote = \"government\"\n",
    "sentiment_score = analyze_quote_sentiment(quote)\n",
    "print(f\"The sentiment score for the quote is: {sentiment_score}\")"
   ]
  },
  {
   "cell_type": "markdown",
   "metadata": {},
   "source": [
    "GETTING SENTIMENT SCORE FOR THE ENTIRE FILE (LINE PER LINE) AND SAVING IT TO A NEW CSV"
   ]
  },
  {
   "cell_type": "code",
   "execution_count": 6,
   "metadata": {},
   "outputs": [
    {
     "name": "stdout",
     "output_type": "stream",
     "text": [
      "      PostId                                            PostUrl  \\\n",
      "0  434449033  https://twitter.com/FultonCoSchools/status/188...   \n",
      "1  434449049  https://twitter.com/FCSSocialWork/status/18889...   \n",
      "2  430920425  https://www.facebook.com/minannfoundation/post...   \n",
      "3  428970310  https://twitter.com/GwinnettSO/status/18864363...   \n",
      "4  428601969  https://www.facebook.com/QasimRashid/posts/pfb...   \n",
      "\n",
      "   PostEngagement  Platform  ChannelID  \\\n",
      "0             NaN   Twitter   10680015   \n",
      "1             NaN   Twitter   19190889   \n",
      "2             NaN  Facebook   31907123   \n",
      "3             NaN   Twitter   10669078   \n",
      "4             NaN  Facebook    5048701   \n",
      "\n",
      "                                     ChannelName     ChannelUid  \\\n",
      "0                            FultonCountySchools  blank_for_now   \n",
      "1                                  FCSSocialWork  blank_for_now   \n",
      "2  The Minnie Bell and Annie Lois Foundation Inc  blank_for_now   \n",
      "3               Gwinnett County Sheriff's Office  blank_for_now   \n",
      "4                                   Qasim Rashid  blank_for_now   \n",
      "\n",
      "      ChannelUrl                                  ChannelEngagement  \\\n",
      "0  blank_for_now  {\"follower_count\":76573,\"following_count\":1918...   \n",
      "1  blank_for_now  {\"follower_count\":538,\"following_count\":471,\"l...   \n",
      "2  blank_for_now  {\"follower_count\":29,\"following_count\":null,\"l...   \n",
      "3  blank_for_now  {\"follower_count\":21424,\"following_count\":44,\"...   \n",
      "4  blank_for_now  {\"follower_count\":134000,\"following_count\":nul...   \n",
      "\n",
      "                                      post_body_text  ...          post_data  \\\n",
      "0  RT @FCSSocialWork: Giving back to the communit...  ...  post data removed   \n",
      "1  Giving back to the community one meal at a tim...  ...  post data removed   \n",
      "2  The Minnie Bell and Annie Lois Foundation Inc ...  ...  post data removed   \n",
      "3  The GCSO Community Affairs Unit has joined the...  ...  post data removed   \n",
      "4  This Black History Month remember that human t...  ...  post data removed   \n",
      "\n",
      "                                     post_media_urls LikesCount SharesCount  \\\n",
      "0                                                NaN        0.0         1.0   \n",
      "1                                                NaN        4.0         1.0   \n",
      "2  https://www.junkipedia.org/rails/active_storag...        2.0         6.0   \n",
      "3                                                NaN        0.0         0.0   \n",
      "4  https://www.junkipedia.org/rails/active_storag...      200.0        95.0   \n",
      "\n",
      "  CommentsCount ViewsCount  post_media_file  \\\n",
      "0           0.0        0.0              NaN   \n",
      "1           0.0      348.0              NaN   \n",
      "2           0.0        0.0              NaN   \n",
      "3           1.0      174.0              NaN   \n",
      "4           4.0        0.0              NaN   \n",
      "\n",
      "                                  embedded_post_text  search_data  sentiment  \n",
      "0  Giving back to the community one meal at a tim...          NaN     0.8687  \n",
      "1                                                NaN          NaN     0.9098  \n",
      "2                                                NaN          NaN     0.3595  \n",
      "3                                                NaN          NaN     0.2960  \n",
      "4                                                NaN          NaN    -0.9987  \n",
      "\n",
      "[5 rows x 24 columns]\n",
      "Output file saved to: C:/Users/zeipe/OneDrive/Desktop/QTM151/qtm151spring2025/output_with_sentiment.csv\n"
     ]
    }
   ],
   "source": [
    "import pandas as pd\n",
    "from vaderSentiment.vaderSentiment import SentimentIntensityAnalyzer\n",
    "\n",
    "# Create an instance of SentimentIntensityAnalyzer\n",
    "analyzer = SentimentIntensityAnalyzer()\n",
    "\n",
    "# Function to get sentiment scores\n",
    "def get_sentiment_scores(text):\n",
    "    scores = analyzer.polarity_scores(text)\n",
    "    return scores['compound']\n",
    "\n",
    "# Read the CSV file\n",
    "input_csv = 'C:/Users/zeipe/OneDrive/Desktop/AIDL/Atlanta_Community_Food_Bank.csv'  # Replace with your input CSV file path\n",
    "df = pd.read_csv(input_csv)\n",
    "\n",
    "# Apply the sentiment analysis to each line in the 'post_body_text' column\n",
    "df['sentiment'] = df['post_body_text'].apply(get_sentiment_scores)\n",
    "\n",
    "# Verify the contents of the DataFrame\n",
    "print(df.head())\n",
    "\n",
    "# Write the results to a new CSV file\n",
    "output_csv = 'C:/Users/zeipe/OneDrive/Desktop/QTM151/qtm151spring2025/output_with_sentiment.csv'  # Replace with your desired output CSV file path\n",
    "df.to_csv(output_csv, index=False)\n",
    "\n",
    "# Confirm the file was written\n",
    "print(f\"Output file saved to: {output_csv}\")"
   ]
  },
  {
   "cell_type": "markdown",
   "metadata": {},
   "source": [
    "GETTING A SUMMARIZED SENTIMENT SCORE FOR THE ENTIRE CSV, OTHER DESCRIPTIVE DATA?"
   ]
  },
  {
   "cell_type": "markdown",
   "metadata": {},
   "source": [
    "Some basic visualizations"
   ]
  },
  {
   "cell_type": "code",
   "execution_count": 9,
   "metadata": {},
   "outputs": [
    {
     "data": {
      "image/png": "[encoded data removed]",
      "text/plain": [
       "<Figure size 1000x600 with 1 Axes>"
      ]
     },
     "metadata": {},
     "output_type": "display_data"
    }
   ],
   "source": [
    "import pandas as pd\n",
    "import matplotlib.pyplot as plt\n",
    "import seaborn as sns\n",
    "\n",
    "df = pd.read_csv('C:/Users/zeipe/OneDrive/Desktop/QTM151/qtm151spring2025/output_with_sentiment.csv')\n",
    "\n",
    "# Plotting the distribution of sentiment scores\n",
    "plt.figure(figsize=(10, 6))\n",
    "sns.histplot(df['sentiment'], bins=30, kde=True)\n",
    "plt.title('Distribution of Sentiment Scores')\n",
    "plt.xlabel('Sentiment Score')\n",
    "plt.ylabel('Frequency')\n",
    "plt.show()"
   ]
  },
  {
   "cell_type": "code",
   "execution_count": 12,
   "metadata": {},
   "outputs": [
    {
     "name": "stdout",
     "output_type": "stream",
     "text": [
      "          Platform  AverageSentimentScore\n",
      "0         Facebook               0.519306\n",
      "1   FacebookDirect               0.687200\n",
      "2        Instagram               0.725229\n",
      "3  InstagramDirect               0.619503\n",
      "4          Podcast               0.870000\n",
      "5           Rumble              -0.618800\n",
      "6         Telegram              -0.421500\n",
      "7           TikTok              -0.223900\n",
      "8          Twitter               0.260506\n",
      "9          YouTube               0.307643\n"
     ]
    }
   ],
   "source": [
    "import pandas as pd\n",
    "\n",
    "# Read data from CSV file\n",
    "df = pd.read_csv('C:/Users/zeipe/OneDrive/Desktop/QTM151/qtm151spring2025/output_with_sentiment.csv')\n",
    "\n",
    "# Group by 'Platform' and calculate the average sentiment score for each platform\n",
    "average_sentiment = df.groupby('Platform')['sentiment'].mean().reset_index()\n",
    "\n",
    "# Rename columns for clarity\n",
    "average_sentiment.columns = ['Platform', 'AverageSentimentScore']\n",
    "\n",
    "print(average_sentiment)\n"
   ]
  }
 ],
 "metadata": {
  "kernelspec": {
   "display_name": "base",
   "language": "python",
   "name": "python3"
  },
  "language_info": {
   "codemirror_mode": {
    "name": "ipython",
    "version": 3
   },
   "file_extension": ".py",
   "mimetype": "text/x-python",
   "name": "python",
   "nbconvert_exporter": "python",
   "pygments_lexer": "ipython3",
   "version": "3.12.4"
  }
 },
 "nbformat": 4,
 "nbformat_minor": 2
}
