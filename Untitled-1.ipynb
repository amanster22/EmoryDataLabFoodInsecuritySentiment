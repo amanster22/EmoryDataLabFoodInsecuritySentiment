{
 "cells": [
  {
   "cell_type": "code",
   "execution_count": 1,
   "metadata": {},
   "outputs": [
    {
     "name": "stdout",
     "output_type": "stream",
     "text": [
      "Requirement already satisfied: vaderSentiment in c:\\users\\zeipe\\anaconda3\\lib\\site-packages (3.3.2)\n",
      "Requirement already satisfied: requests in c:\\users\\zeipe\\anaconda3\\lib\\site-packages (from vaderSentiment) (2.32.2)\n",
      "Requirement already satisfied: charset-normalizer<4,>=2 in c:\\users\\zeipe\\anaconda3\\lib\\site-packages (from requests->vaderSentiment) (2.0.4)\n",
      "Requirement already satisfied: idna<4,>=2.5 in c:\\users\\zeipe\\anaconda3\\lib\\site-packages (from requests->vaderSentiment) (3.7)\n",
      "Requirement already satisfied: urllib3<3,>=1.21.1 in c:\\users\\zeipe\\anaconda3\\lib\\site-packages (from requests->vaderSentiment) (2.2.2)\n",
      "Requirement already satisfied: certifi>=2017.4.17 in c:\\users\\zeipe\\anaconda3\\lib\\site-packages (from requests->vaderSentiment) (2024.8.30)\n",
      "Note: you may need to restart the kernel to use updated packages.\n"
     ]
    }
   ],
   "source": [
    "pip install vaderSentiment"
   ]
  },
  {
   "cell_type": "code",
   "execution_count": 2,
   "metadata": {},
   "outputs": [],
   "source": [
    "import pandas as pd\n",
    "from vaderSentiment.vaderSentiment import SentimentIntensityAnalyzer"
   ]
  },
  {
   "cell_type": "code",
   "execution_count": 3,
   "metadata": {},
   "outputs": [],
   "source": [
    "df = pd.read_csv('C:/Users/zeipe/Downloads/Invest Atlanta_food.csv')"
   ]
  },
  {
   "cell_type": "code",
   "execution_count": 4,
   "metadata": {},
   "outputs": [
    {
     "data": {
      "text/plain": [
       "0    15 stores are getting $50K each to improve str...\n",
       "1    A new grocery store is being planned for senio...\n",
       "2    Invest Atlanta approves $2.6M to fund healthy ...\n",
       "3    Invest Atlanta has approved five new projects ...\n",
       "4    Mayor Andre Dickens announces investment into ...\n",
       "Name: post_body_text, dtype: object"
      ]
     },
     "execution_count": 4,
     "metadata": {},
     "output_type": "execute_result"
    }
   ],
   "source": [
    "# print(df.head())\n",
    "# print(df.columns)\n",
    "postInfo = df['post_body_text']\n",
    "postInfo.head()"
   ]
  },
  {
   "cell_type": "code",
   "execution_count": 5,
   "metadata": {},
   "outputs": [],
   "source": [
    "analyzer = SentimentIntensityAnalyzer()"
   ]
  },
  {
   "cell_type": "code",
   "execution_count": 6,
   "metadata": {},
   "outputs": [],
   "source": [
    "def get_sentiment_scores(text):\n",
    "    scores = analyzer.polarity_scores(text)\n",
    "    return scores['compound']"
   ]
  },
  {
   "cell_type": "code",
   "execution_count": 7,
   "metadata": {},
   "outputs": [
    {
     "data": {
      "text/plain": [
       "0    0.4404\n",
       "1    0.8020\n",
       "2    0.6597\n",
       "3   -0.1280\n",
       "4    0.3182\n",
       "Name: sentiment, dtype: float64"
      ]
     },
     "execution_count": 7,
     "metadata": {},
     "output_type": "execute_result"
    }
   ],
   "source": [
    "df['sentiment'] = df['post_body_text'].apply(get_sentiment_scores)\n",
    "\n",
    "df['sentiment'].head()"
   ]
  },
  {
   "cell_type": "code",
   "execution_count": 8,
   "metadata": {},
   "outputs": [
    {
     "name": "stdout",
     "output_type": "stream",
     "text": [
      "      PostId                                            PostUrl  \\\n",
      "0  396940428  https://www.facebook.com/11Alive/posts/pfbid02...   \n",
      "1  377154745  https://twitter.com/wabenews/status/1858951693...   \n",
      "2  357512282  https://twitter.com/RoughDraftATL/status/18506...   \n",
      "3  344416971  https://www.facebook.com/100044630550295/posts...   \n",
      "4  344416981  https://www.facebook.com/100044630550295/posts...   \n",
      "\n",
      "   PostEngagement        Platform  ChannelID          ChannelName  \\\n",
      "0             NaN        Facebook   16547456              11Alive   \n",
      "1             NaN         Twitter    6894890            WABE News   \n",
      "2             NaN         Twitter   18021705  Rough Draft Atlanta   \n",
      "3             NaN  FacebookDirect   25189443        FOX 5 Atlanta   \n",
      "4             NaN  FacebookDirect   25189443        FOX 5 Atlanta   \n",
      "\n",
      "      ChannelUid     ChannelUrl  \\\n",
      "0  blank_for_now  blank_for_now   \n",
      "1  blank_for_now  blank_for_now   \n",
      "2  blank_for_now  blank_for_now   \n",
      "3  blank_for_now  blank_for_now   \n",
      "4  blank_for_now  blank_for_now   \n",
      "\n",
      "                                   ChannelEngagement  \\\n",
      "0  {\"follower_count\":2041626,\"following_count\":0,...   \n",
      "1  {\"follower_count\":24502,\"following_count\":1010...   \n",
      "2  {\"follower_count\":192252,\"following_count\":345...   \n",
      "3  {\"follower_count\":2300000,\"following_count\":0,...   \n",
      "4  {\"follower_count\":2300000,\"following_count\":0,...   \n",
      "\n",
      "                                      post_body_text  ...          post_data  \\\n",
      "0  15 stores are getting $50K each to improve str...  ...  post data removed   \n",
      "1  A new grocery store is being planned for senio...  ...  post data removed   \n",
      "2  Invest Atlanta approves $2.6M to fund healthy ...  ...  post data removed   \n",
      "3  Invest Atlanta has approved five new projects ...  ...  post data removed   \n",
      "4  Mayor Andre Dickens announces investment into ...  ...  post data removed   \n",
      "\n",
      "  post_media_urls LikesCount SharesCount CommentsCount ViewsCount  \\\n",
      "0             NaN          9           0             0          0   \n",
      "1             NaN          3           1             0        333   \n",
      "2             NaN          4           0             0        738   \n",
      "3             NaN         23           2             0          0   \n",
      "4             NaN          8           0             1          0   \n",
      "\n",
      "   post_media_file  embedded_post_text  search_data  sentiment  \n",
      "0              NaN                 NaN          NaN     0.4404  \n",
      "1              NaN                 NaN          NaN     0.8020  \n",
      "2              NaN                 NaN          NaN     0.6597  \n",
      "3              NaN                 NaN          NaN    -0.1280  \n",
      "4              NaN                 NaN          NaN     0.3182  \n",
      "\n",
      "[5 rows x 24 columns]\n"
     ]
    }
   ],
   "source": [
    "print(df.head())"
   ]
  },
  {
   "cell_type": "markdown",
   "metadata": {},
   "source": [
    "TODO\n",
    "take one post that is very extreme, and place it in as an example to analyze the sentiment score.\n",
    "Then do it so that I get it for the entire csv. and save this as a new one."
   ]
  },
  {
   "cell_type": "markdown",
   "metadata": {},
   "source": []
  },
  {
   "cell_type": "markdown",
   "metadata": {},
   "source": [
    "ONE POSITIVE EXAMPLE"
   ]
  },
  {
   "cell_type": "code",
   "execution_count": null,
   "metadata": {},
   "outputs": [],
   "source": []
  }
 ],
 "metadata": {
  "kernelspec": {
   "display_name": "base",
   "language": "python",
   "name": "python3"
  },
  "language_info": {
   "codemirror_mode": {
    "name": "ipython",
    "version": 3
   },
   "file_extension": ".py",
   "mimetype": "text/x-python",
   "name": "python",
   "nbconvert_exporter": "python",
   "pygments_lexer": "ipython3",
   "version": "3.12.4"
  }
 },
 "nbformat": 4,
 "nbformat_minor": 2
}
