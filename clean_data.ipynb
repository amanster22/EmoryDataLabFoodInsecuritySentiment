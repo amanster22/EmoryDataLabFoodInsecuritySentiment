{
 "cells": [
  {
   "cell_type": "code",
   "execution_count": null,
   "metadata": {},
   "outputs": [
    {
     "name": "stdout",
     "output_type": "stream",
     "text": [
      "Combined CSV saved to government_combined.csv\n",
      "Combined CSV saved to nonprofit_combined.csv\n",
      "Combined CSV saved to privateorg_combined.csv\n"
     ]
    }
   ],
   "source": [
    "import os\n",
    "import pandas as pd\n",
    "\n",
    "def combine_csv_files(folder_path, output_file):\n",
    "    all_files = [f for f in os.listdir(folder_path) if f.endswith('.csv')]\n",
    "    \n",
    "    if not all_files:\n",
    "        print(\"No CSV files found in the folder.\")\n",
    "        return\n",
    "    #hi \n",
    "    df_list = [pd.read_csv(os.path.join(folder_path, file)) for file in all_files]\n",
    "    combined_df = pd.concat(df_list, ignore_index=True)\n",
    "    \n",
    "    combined_df.to_csv(output_file, index=False)\n",
    "    print(f\"Combined CSV saved to {output_file}\")\n",
    "\n",
    "# Example usage\n",
    "folder_path = \"datasets/government/\"  # Change this to your folder path\n",
    "output_file = \"government_combined.csv\"  # Change this to your desired output file name\n",
    "combine_csv_files(folder_path, output_file)\n",
    "\n",
    "# Example usage\n",
    "folder_path = \"datasets/nonprofit/\"  # Change this to your folder path\n",
    "output_file = \"nonprofit_combined.csv\"  # Change this to your desired output file name\n",
    "combine_csv_files(folder_path, output_file)\n",
    "\n",
    "# Example usage\n",
    "folder_path = \"datasets/privateorg/\"  # Change this to your folder path\n",
    "output_file = \"privateorg_combined.csv\"  # Change this to your desired output file name\n",
    "combine_csv_files(folder_path, output_file)"
   ]
  },
  {
   "cell_type": "code",
   "execution_count": 4,
   "metadata": {},
   "outputs": [
    {
     "name": "stdout",
     "output_type": "stream",
     "text": [
      "681\n",
      "662\n"
     ]
    }
   ],
   "source": [
    "import pandas as pd\n",
    "df = pd.read_csv('nonprofit_combined.csv')\n",
    "\n",
    "print(df.shape[0])  # Original row count\n",
    "\n",
    "refined_df = df.drop_duplicates(subset=['PostId'], keep='first')  # Remove duplicate PostId entries\n",
    "\n",
    "print(refined_df.shape[0])  # New row count after removing duplicates\n"
   ]
  }
 ],
 "metadata": {
  "kernelspec": {
   "display_name": "base",
   "language": "python",
   "name": "python3"
  },
  "language_info": {
   "codemirror_mode": {
    "name": "ipython",
    "version": 3
   },
   "file_extension": ".py",
   "mimetype": "text/x-python",
   "name": "python",
   "nbconvert_exporter": "python",
   "pygments_lexer": "ipython3",
   "version": "3.12.4"
  }
 },
 "nbformat": 4,
 "nbformat_minor": 2
}
