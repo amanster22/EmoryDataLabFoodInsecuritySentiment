{
 "cells": [
  {
   "cell_type": "code",
   "execution_count": 3,
   "metadata": {},
   "outputs": [
    {
     "name": "stdout",
     "output_type": "stream",
     "text": [
      "Combined CSV saved to government_combined.csv\n",
      "Combined CSV saved to control_combined.csv\n"
     ]
    }
   ],
   "source": [
    "import os\n",
    "import pandas as pd\n",
    "\n",
    "def combine_csv_files(folder_path, output_file):\n",
    "    all_files = [f for f in os.listdir(folder_path) if f.endswith('.csv')]\n",
    "    \n",
    "    if not all_files:\n",
    "        print(\"No CSV files found in the folder.\")\n",
    "        return\n",
    "    df_list = [pd.read_csv(os.path.join(folder_path, file)) for file in all_files]\n",
    "    combined_df = pd.concat(df_list, ignore_index=True)\n",
    "    combined_df.drop_duplicates(subset=['PostId'], keep='first')\n",
    "    \n",
    "    combined_df.to_csv(output_file, index=False)\n",
    "    print(f\"Combined CSV saved to {output_file}\")\n",
    "\n",
    "# Example usage\n",
    "folder_path = \"datasets/government/\"  # Change this to your folder path\n",
    "output_file = \"government_combined.csv\"  # Change this to your desired output file name\n",
    "combine_csv_files(folder_path, output_file)\n",
    "\n",
    "\n",
    "\n",
    "# Example usage\n",
    "folder_path = \"datasets/control/\"  # Change this to your folder path\n",
    "output_file = \"control_combined.csv\"  # Change this to your desired output file name\n",
    "combine_csv_files(folder_path, output_file)\n"
   ]
  }
 ],
 "metadata": {
  "kernelspec": {
   "display_name": "base",
   "language": "python",
   "name": "python3"
  },
  "language_info": {
   "codemirror_mode": {
    "name": "ipython",
    "version": 3
   },
   "file_extension": ".py",
   "mimetype": "text/x-python",
   "name": "python",
   "nbconvert_exporter": "python",
   "pygments_lexer": "ipython3",
   "version": "3.11.2"
  }
 },
 "nbformat": 4,
 "nbformat_minor": 2
}
